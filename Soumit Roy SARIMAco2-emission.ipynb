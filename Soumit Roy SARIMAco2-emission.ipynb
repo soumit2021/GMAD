{
 "cells": [
  {
   "cell_type": "markdown",
   "metadata": {
    "_cell_guid": "c9ca404b-20e2-46c0-80ab-5e755aa1beef",
    "_uuid": "639c042d5265c9306ce435fcf7c4d4ff8315948d"
   },
   "source": [
    "# 2) Time series dataset"
   ]
  },
  {
   "cell_type": "markdown",
   "metadata": {
    "_cell_guid": "55412ca8-9db7-4323-aace-d32b488eb9f5",
    "_uuid": "6606723cc67c2637d1217fa1faf9aa4ed46facdf"
   },
   "source": [
    "I use a public dataset of monthly carbon dioxide emissions from electricity generation available at the Energy Information Administration and Jason McNeill. The dataset includes CO2 emissions from each energy resource starting January 1973 to July 2016 for reference "
   ]
  },
  {
   "cell_type": "markdown",
   "metadata": {
    "_cell_guid": "a072582f-61a3-4970-87c1-087d0cf4cbc1",
    "_uuid": "5c949f69b74b4a79bf209f04bf48857fdca40dad"
   },
   "source": [
    "# 3)\tImport libraries"
   ]
  },
  {
   "cell_type": "code",
   "execution_count": 1,
   "metadata": {
    "_cell_guid": "8dbcdc53-32a4-427a-8d3b-a8786dfdae0c",
    "_uuid": "0ef003dd0e7c377d91e5f06128e580192bfd04f2",
    "collapsed": true
   },
   "outputs": [],
   "source": [
    "%matplotlib inline\n",
    "import numpy as np\n",
    "import pandas as pd\n",
    "import matplotlib.pylab\n",
    "import matplotlib.pyplot as plt\n",
    "from matplotlib.pylab import rcParams\n",
    "rcParams['figure.figsize'] = 20, 16"
   ]
  },
  {
   "cell_type": "code",
   "execution_count": 3,
   "metadata": {
    "_cell_guid": "662b59dd-8188-4d89-89cc-c2dd2eec2da8",
    "_uuid": "3ea60e343a83f82fe07b843418abda35933d56c6",
    "collapsed": true
   },
   "outputs": [],
   "source": [
    "import warnings\n",
    "import itertools\n",
    "warnings.filterwarnings(\"ignore\") # specify to ignore warning messages"
   ]
  },
  {
   "cell_type": "markdown",
   "metadata": {
    "_cell_guid": "9cec3e6e-85c8-47f7-965b-f0985a6758ad",
    "_uuid": "68a12cdf7728c681751a0f91f9386730e3cb5225"
   },
   "source": [
    "## 4.1\tTime series dataset retrieving"
   ]
  },
  {
   "cell_type": "code",
   "execution_count": 4,
   "metadata": {
    "_cell_guid": "7970043a-506b-45cd-bf7a-addfa82fd453",
    "_uuid": "9a368b11165c7685905671444bd994b09d18a324"
   },
   "outputs": [],
   "source": [
    "df = pd.read_csv(\"MER_T12_06.csv\")\n",
    "df.head()"
   ]
  },
  {
   "cell_type": "code",
   "execution_count": 5,
   "metadata": {
    "_cell_guid": "3b19408c-0117-4695-aa7d-1d5c4047252c",
    "_uuid": "6eb3ba8d69283e8f3315439787a2a8c1d087c387"
   },
   "outputs": [],
   "source": [
    "df.info()"
   ]
  },
  {
   "cell_type": "code",
   "execution_count": 6,
   "metadata": {
    "_cell_guid": "cb1d837e-6856-438d-86fd-8f4e4fd5ee47",
    "_uuid": "fabcebb9b35fa75c4245d65ce99d2498e22f0ba6"
   },
   "outputs": [],
   "source": [
    "dateparse = lambda x: pd.to_datetime(x, format='%Y%m', errors = 'coerce')\n",
    "df = pd.read_csv(\"MER_T12_06.csv\", parse_dates=['YYYYMM'], index_col='YYYYMM', date_parser=dateparse) \n",
    "df.head()"
   ]
  },
  {
   "cell_type": "code",
   "execution_count": 11,
   "metadata": {
    "_cell_guid": "ade50f71-fada-49b0-95fa-e23d8dd3ad69",
    "_uuid": "e95fb969cfc7989b8252384d5b0e96f7918aef1f"
   },
   "outputs": [],
   "source": [
    "df.tail(15)"
   ]
  },
  {
   "cell_type": "code",
   "execution_count": 8,
   "metadata": {
    "_uuid": "0acee0b08639a358d20db5dee2d351cb3347388e"
   },
   "outputs": [],
   "source": [
    "df.Column_Order.value_counts()"
   ]
  },
  {
   "cell_type": "code",
   "execution_count": 12,
   "metadata": {
    "_uuid": "d7badb62b40b4b5be36dadf00908b11cd6ca37a9"
   },
   "outputs": [],
   "source": [
    "# df.Unit.value_counts()      Million Metric Tons of Carbon Dioxide    5094\n",
    "#df.Description.value_counts()  9values\n",
    "#df.MSN.value_counts()  9value"
   ]
  },
  {
   "cell_type": "code",
   "execution_count": 13,
   "metadata": {
    "_cell_guid": "23f28637-3305-4dea-baf8-7bbf366116a3",
    "_uuid": "885fd865a9e00b87fb11ed074374dda9a08b213e"
   },
   "outputs": [],
   "source": [
    "ts = df[pd.Series(pd.to_datetime(df.index, errors='coerce')).notnull().values]\n",
    "ts.head(15)"
   ]
  },
  {
   "cell_type": "code",
   "execution_count": 14,
   "metadata": {
    "_cell_guid": "99572437-ed6c-48df-8564-e3853907d682",
    "_uuid": "25546c317b2dbad55f998367627857b7f85c711b"
   },
   "outputs": [],
   "source": [
    "ts.dtypes"
   ]
  },
  {
   "cell_type": "code",
   "execution_count": 15,
   "metadata": {
    "_cell_guid": "20ce2c63-0bf9-459e-86e6-3df2a6c6dab9",
    "_uuid": "8284f22677677a5b7199c8065ead4b5111fa6962"
   },
   "outputs": [],
   "source": [
    "#ss = ts.copy(deep=True)\n",
    "ts['Value'] = pd.to_numeric(ts['Value'] , errors='coerce')\n",
    "ts.head()"
   ]
  },
  {
   "cell_type": "code",
   "execution_count": 16,
   "metadata": {
    "_cell_guid": "6f4b23a3-4f42-4a5c-97ed-7d97803ce78a",
    "_uuid": "0aa7e24f786110a005f16fb2dece9b83d56b89d1"
   },
   "outputs": [],
   "source": [
    "ts.info()"
   ]
  },
  {
   "cell_type": "code",
   "execution_count": 17,
   "metadata": {
    "_cell_guid": "e159dd06-cf56-4e45-ad17-323da99b411e",
    "_uuid": "69150ccf50da0b603c15eca8ef60f1ac8cce8f00",
    "collapsed": true
   },
   "outputs": [],
   "source": [
    "ts.dropna(inplace = True)"
   ]
  },
  {
   "cell_type": "code",
   "execution_count": 18,
   "metadata": {
    "_cell_guid": "aca21a9b-da7d-4055-ad34-d1e997097a0e",
    "_uuid": "40dfa4a4793ff3c0aca007799920eae595d25eb3"
   },
   "outputs": [],
   "source": [
    "#group by products same products changing date(month)\n",
    "Energy_sources = ts.groupby('Description')\n",
    "Energy_sources.head()"
   ]
  },
  {
   "cell_type": "code",
   "execution_count": 23,
   "metadata": {
    "_cell_guid": "4835332e-ea41-4adf-b84c-dc95f611bdfc",
    "_uuid": "cfc8c63d6c9191ea9e4ab3a012fbabb72909bc6b"
   },
   "outputs": [],
   "source": [
    "fig, ax = plt.subplots()\n",
    "for desc, group in Energy_sources:\n",
    "    group.plot(x = group.index, y='Value', label=desc,ax = ax, title='Carbon Emissions per Energy Source', fontsize = 20)\n",
    "    ax.set_xlabel('Time(Monthly)')\n",
    "    ax.set_ylabel('Carbon Emissions in MMT')\n",
    "    ax.xaxis.label.set_size(20)\n",
    "    ax.yaxis.label.set_size(20)\n",
    "    ax.legend(fontsize = 11)"
   ]
  },
  {
   "cell_type": "code",
   "execution_count": 21,
   "metadata": {
    "_cell_guid": "f121edd1-a701-47f5-87df-f8cc21a69951",
    "_uuid": "d02be85a61de94af2e0bbe0c61707be9dd938c54"
   },
   "outputs": [],
   "source": [
    "fig, axes = plt.subplots(3,3, figsize = (30, 20))\n",
    "for (desc, group), ax in zip(Energy_sources, axes.flatten()):\n",
    "    group.plot(x = group.index, y='Value',ax = ax, title=desc, fontsize = 18)\n",
    "    ax.set_xlabel('Time(Monthly)')\n",
    "    ax.set_ylabel('Carbon Emissions in MMT')\n",
    "    ax.xaxis.label.set_size(18)\n",
    "    ax.yaxis.label.set_size(18)"
   ]
  },
  {
   "cell_type": "markdown",
   "metadata": {
    "_cell_guid": "8ebe43ab-ff20-4d92-a4b1-9bb751810781",
    "_uuid": "f18944e5642eb61ba1dcf03dfbd30b4adcdbe4f6",
    "collapsed": true
   },
   "source": [
    "   ## 4.3\tBar chart of CO2 Emissions per energy source"
   ]
  },
  {
   "cell_type": "code",
   "execution_count": 24,
   "metadata": {
    "_cell_guid": "48a09833-d2a1-441e-94cb-adeb8336831c",
    "_uuid": "81783428b8c334d1cbed0cdc297994c88564eb51",
    "collapsed": true
   },
   "outputs": [],
   "source": [
    "CO2_per_source = ts.groupby('Description')['Value'].sum().sort_values()"
   ]
  },
  {
   "cell_type": "code",
   "execution_count": 25,
   "metadata": {
    "_cell_guid": "0bbbee70-981b-4aae-a478-c72c08f2d43d",
    "_uuid": "09b8cc228f8bbda1b8d3d83866001b53b2498205"
   },
   "outputs": [],
   "source": [
    "# I want to use shorter descriptions for the energy sources\n",
    "CO2_per_source.index"
   ]
  },
  {
   "cell_type": "code",
   "execution_count": 26,
   "metadata": {
    "_cell_guid": "650598ac-6a69-4fa9-98b1-72da4e450430",
    "_uuid": "72a21cf5771ad5f793c2275c482468d80aad2704",
    "collapsed": true
   },
   "outputs": [],
   "source": [
    "cols = ['Geothermal Energy', 'Non-Biomass Waste', 'Petroleum Coke','Distillate Fuel ',\n",
    "        'Residual Fuel Oil', 'Petroleum', 'Natural Gas', 'Coal', 'Total Emissions']"
   ]
  },
  {
   "cell_type": "code",
   "execution_count": 27,
   "metadata": {
    "_cell_guid": "b392e3b7-e1fe-4b92-94b0-f6a96bb8e8d8",
    "_uuid": "d6e42c1000b4f2d73d73184d427633c463dd9ce9"
   },
   "outputs": [],
   "source": [
    "fig = plt.figure(figsize = (16,9))\n",
    "x_label = cols\n",
    "x_tick = np.arange(len(cols))\n",
    "plt.bar(x_tick, CO2_per_source, align = 'center', alpha = 0.5)\n",
    "fig.suptitle(\"CO2 Emissions by Electric Power Sector\", fontsize= 25)\n",
    "plt.xticks(x_tick, x_label, rotation = 70, fontsize = 20)\n",
    "plt.yticks(fontsize = 20)\n",
    "plt.xlabel('Carbon Emissions in MMT', fontsize = 20)\n",
    "plt.show()"
   ]
  },
  {
   "cell_type": "markdown",
   "metadata": {
    "_cell_guid": "8941939c-04ac-4004-a0e2-bbeb377206b7",
    "_uuid": "5434193afc1be054f9839f4051cb8e099b5e7f74"
   },
   "source": [
    "# 5) Natural gas CO2 emission analysis"
   ]
  },
  {
   "cell_type": "code",
   "execution_count": 29,
   "metadata": {
    "_uuid": "a2ca822b8c78d46532f91cb1eaac70768d27e945"
   },
   "outputs": [],
   "source": [
    "ts.head()"
   ]
  },
  {
   "cell_type": "code",
   "execution_count": 30,
   "metadata": {
    "_cell_guid": "ba631338-0650-4e9e-92ef-ac19ba940ced",
    "_uuid": "d27eac43f126edf54de708f28bf82e7023970da6"
   },
   "outputs": [],
   "source": [
    "Emissions = ts.iloc[:,1:]   # Monthly total emissions (mte)\n",
    "Emissions= Emissions.groupby(['Description', pd.TimeGrouper('M')])['Value'].sum().unstack(level = 0)\n",
    "mte = Emissions['Natural Gas Electric Power Sector CO2 Emissions'] # monthly total emissions (mte)\n",
    "mte.head()"
   ]
  },
  {
   "cell_type": "code",
   "execution_count": 31,
   "metadata": {
    "_cell_guid": "6716d0ab-4eb4-4c8f-9f70-0296d466fe77",
    "_uuid": "9efd36bfe90b5bcdb5e5ef2ec0ee6515e66f5ef2"
   },
   "outputs": [],
   "source": [
    "mte.tail()"
   ]
  },
  {
   "cell_type": "markdown",
   "metadata": {
    "_cell_guid": "f130f52a-cb4c-4f7f-9877-df8a7e7d2de1",
    "_uuid": "643e8842ddf738aad2904c2cfe40cdea8f299105"
   },
   "source": [
    "## 5.1 Test Stationary"
   ]
  },
  {
   "cell_type": "code",
   "execution_count": 32,
   "metadata": {
    "_cell_guid": "1d072346-2b3d-4019-89f5-e376776c1f3f",
    "_uuid": "7a4238a5e94b5d74ad66e5aa04a398086f801722",
    "collapsed": true
   },
   "outputs": [],
   "source": [
    "import statsmodels\n",
    "import statsmodels.api as sm\n",
    "from statsmodels.tsa.stattools import coint, adfuller"
   ]
  },
  {
   "cell_type": "markdown",
   "metadata": {
    "_cell_guid": "66de9529-0ef5-4cb8-b769-ce02015b0cca",
    "_uuid": "b3dd689034da2f7f0e2517660e6143b113ae5647"
   },
   "source": [
    "## 5.1.1 Graphycally test stationary"
   ]
  },
  {
   "cell_type": "code",
   "execution_count": 33,
   "metadata": {
    "_cell_guid": "f56c6a01-e525-432a-bf5c-8de9337c699d",
    "_uuid": "92384eaa93073f50bc0d5355fddd6677a532053f"
   },
   "outputs": [],
   "source": [
    "plt.plot(mte)"
   ]
  },
  {
   "cell_type": "markdown",
   "metadata": {
    "_cell_guid": "9459c625-4a8a-4916-94ab-b839f4142538",
    "_uuid": "6debcd83d5ce8d7c0102336b6d3d1f91ae915909"
   },
   "source": [
    "## 5.1.2 Test  stationary using Dickey-Fuller"
   ]
  },
  {
   "cell_type": "code",
   "execution_count": 34,
   "metadata": {
    "_cell_guid": "03af8595-a917-4f05-9581-acf9319c2980",
    "_uuid": "80b28d1e634d3ce1916542fd2e50b823688e3433",
    "collapsed": true
   },
   "outputs": [],
   "source": [
    "def TestStationaryPlot(ts):\n",
    "    rol_mean = ts.rolling(window = 12, center = False).mean()\n",
    "    rol_std = ts.rolling(window = 12, center = False).std()\n",
    "    \n",
    "    plt.plot(ts, color = 'blue',label = 'Original Data')\n",
    "    plt.plot(rol_mean, color = 'red', label = 'Rolling Mean')\n",
    "    plt.plot(rol_std, color ='black', label = 'Rolling Std')\n",
    "    plt.xticks(fontsize = 25)\n",
    "    plt.yticks(fontsize = 25)\n",
    "    \n",
    "    plt.xlabel('Time in Years', fontsize = 25)\n",
    "    plt.ylabel('Total Emissions', fontsize = 25)\n",
    "    plt.legend(loc='best', fontsize = 25)\n",
    "    plt.title('Rolling Mean & Standard Deviation', fontsize = 25)\n",
    "    plt.show(block= True)"
   ]
  },
  {
   "cell_type": "code",
   "execution_count": 35,
   "metadata": {
    "_cell_guid": "a0515555-d09c-4e7c-89df-486c1f16a108",
    "_uuid": "0b57ca2ba38173f7da20fe5f2211cb805460fddb",
    "collapsed": true
   },
   "outputs": [],
   "source": [
    "def TestStationaryAdfuller(ts, cutoff = 0.01):\n",
    "    ts_test = adfuller(ts, autolag = 'AIC')\n",
    "    ts_test_output = pd.Series(ts_test[0:4], index=['Test Statistic','p-value','#Lags Used','Number of Observations Used'])\n",
    "    \n",
    "    for key,value in ts_test[4].items():\n",
    "        ts_test_output['Critical Value (%s)'%key] = value\n",
    "    print(ts_test_output)\n",
    "    \n",
    "    if ts_test[1] <= cutoff:\n",
    "        print(\"Strong evidence against the null hypothesis, reject the null hypothesis. Data has no unit root, hence it is stationary\")\n",
    "    else:\n",
    "        print(\"Weak evidence against null hypothesis, time series has a unit root, indicating it is non-stationary \")\n",
    "        "
   ]
  },
  {
   "cell_type": "markdown",
   "metadata": {
    "_cell_guid": "a41fbf62-4f3c-459e-b5ef-995c957813c4",
    "_uuid": "22b0b6373e9ee43f06d489af8badfe865b5ae43e"
   },
   "source": [
    "### Testing the monthly emissions time series"
   ]
  },
  {
   "cell_type": "code",
   "execution_count": 36,
   "metadata": {
    "_cell_guid": "42299d5a-acb8-4f45-a130-3c072197ed08",
    "_uuid": "88cc267eee27ba4cd3a75f66ff3d876156e9a827"
   },
   "outputs": [],
   "source": [
    "TestStationaryPlot(mte)"
   ]
  },
  {
   "cell_type": "code",
   "execution_count": 37,
   "metadata": {
    "_cell_guid": "da236fb4-0896-4268-af38-58aa9ef50341",
    "_uuid": "7f04af78caa0ba8f08e1af07eb01f67f744bbc8d"
   },
   "outputs": [],
   "source": [
    "TestStationaryAdfuller(mte)"
   ]
  },
  {
   "cell_type": "markdown",
   "metadata": {
    "_cell_guid": "018094f5-bc39-4c13-96c1-1ce3d4313bcb",
    "_uuid": "cc2f6e2a777819f16de728673353a020932ba344"
   },
   "source": [
    "## 5.1.3 Transform the dataset to stationary"
   ]
  },
  {
   "cell_type": "markdown",
   "metadata": {
    "_cell_guid": "5507c8c5-15a6-4ca4-bd57-ba0be17b0cc9",
    "_uuid": "b3696d27431a63d9d50b236638244220fc4b2494"
   },
   "source": [
    "## A). Moving average"
   ]
  },
  {
   "cell_type": "code",
   "execution_count": 38,
   "metadata": {
    "_cell_guid": "0c0a683a-2c33-4444-bb4e-ffb4f072a113",
    "_uuid": "34f0fa4e75d85d288b837cbd9610241e06f88c5a"
   },
   "outputs": [],
   "source": [
    "moving_avg = mte.rolling(12).mean()\n",
    "plt.plot(mte)\n",
    "plt.plot(moving_avg, color='red')\n",
    "plt.xticks(fontsize = 25)\n",
    "plt.yticks(fontsize = 25)\n",
    "plt.xlabel('Time (years)', fontsize = 25)\n",
    "plt.ylabel('CO2 Emission (MMT)', fontsize = 25)\n",
    "plt.title('CO2 emission from electric power generation', fontsize = 25)\n",
    "plt.show()"
   ]
  },
  {
   "cell_type": "code",
   "execution_count": 39,
   "metadata": {
    "_cell_guid": "c6a31691-db43-4c4e-9dc5-4428a935e708",
    "_uuid": "16ed0947b1e836ce1f8925f04ed4297cf8d8d96c"
   },
   "outputs": [],
   "source": [
    "mte_moving_avg_diff = mte - moving_avg\n",
    "mte_moving_avg_diff.head(13)"
   ]
  },
  {
   "cell_type": "code",
   "execution_count": 40,
   "metadata": {
    "_cell_guid": "3084f4de-4d72-422e-8086-a597c2212c19",
    "_uuid": "7f32f5486c49cb6663e30da643eddb0b6fbf49fc"
   },
   "outputs": [],
   "source": [
    "mte_moving_avg_diff.dropna(inplace=True)\n",
    "TestStationaryPlot(mte_moving_avg_diff)"
   ]
  },
  {
   "cell_type": "code",
   "execution_count": 41,
   "metadata": {
    "_cell_guid": "2c94ddaf-cc0c-415c-b946-e53ee27cb45f",
    "_uuid": "748d39a9c436c2d22a28e60e36fff6cb3c4756a5"
   },
   "outputs": [],
   "source": [
    "TestStationaryAdfuller(mte_moving_avg_diff)"
   ]
  },
  {
   "cell_type": "markdown",
   "metadata": {
    "_cell_guid": "d31dadcc-9cad-4775-9f75-59a575e361cc",
    "_uuid": "d62b545b07ad7b03f8e9c1409234a10362382360"
   },
   "source": [
    "## B). Exponentail weighted moving average"
   ]
  },
  {
   "cell_type": "code",
   "execution_count": 42,
   "metadata": {
    "_cell_guid": "57eb32a6-5b5a-4946-b79b-da495751bd35",
    "_uuid": "316e775861f9bd60eac2258d32fb09f035388e0b"
   },
   "outputs": [],
   "source": [
    "mte_exp_wighted_avg = pd.ewma(mte, halflife=12)\n",
    "plt.plot(mte)\n",
    "plt.plot(mte_exp_wighted_avg, color='red')\n",
    "plt.xticks(fontsize = 25)\n",
    "plt.yticks(fontsize = 25)\n",
    "plt.xlabel('Time (years)', fontsize = 25)\n",
    "plt.ylabel('CO2 Emission (MMT)', fontsize = 25)\n",
    "plt.title('CO2 emission from electric power generation', fontsize = 25)\n",
    "plt.show()"
   ]
  },
  {
   "cell_type": "code",
   "execution_count": 43,
   "metadata": {
    "_cell_guid": "2e3debac-e1e5-4f82-85d1-da477c56fd98",
    "_uuid": "13ef6e5aacc06d692d078b7fb6f9205a369663a8"
   },
   "outputs": [],
   "source": [
    "mte_ewma_diff = mte - mte_exp_wighted_avg\n",
    "TestStationaryPlot(mte_ewma_diff)"
   ]
  },
  {
   "cell_type": "code",
   "execution_count": 44,
   "metadata": {
    "_cell_guid": "6cd790ce-5464-4de1-8b16-6216ba5e003a",
    "_uuid": "a8bfce8291f54b79ead8abb1ec7571215920850e"
   },
   "outputs": [],
   "source": [
    "TestStationaryAdfuller(mte_ewma_diff)"
   ]
  },
  {
   "cell_type": "markdown",
   "metadata": {
    "_cell_guid": "c95ef07f-f904-4035-8a3f-0e733dc3ba5f",
    "_uuid": "e72644aa58b29b59ddb3c7927e65fbc08127c45a"
   },
   "source": [
    "## C) Eliminating trend and seasonality: Differencing"
   ]
  },
  {
   "cell_type": "code",
   "execution_count": 45,
   "metadata": {
    "_cell_guid": "07d5a3ba-6112-4497-a393-002777d1adb8",
    "_uuid": "f7afaef78f263dcc01668caea4ae539ec3c442c5"
   },
   "outputs": [],
   "source": [
    "mte_first_difference = mte - mte.shift(1)  \n",
    "TestStationaryPlot(mte_first_difference.dropna(inplace=False))"
   ]
  },
  {
   "cell_type": "code",
   "execution_count": 46,
   "metadata": {
    "_cell_guid": "1dbcf295-d424-4f7a-a8a4-91b7167721ae",
    "_uuid": "9650103d050d7c98874d402d19c56a247ed3a91d"
   },
   "outputs": [],
   "source": [
    "TestStationaryAdfuller(mte_first_difference.dropna(inplace=False))"
   ]
  },
  {
   "cell_type": "code",
   "execution_count": 47,
   "metadata": {
    "_cell_guid": "125318b2-548b-41df-8199-20b1671182bc",
    "_uuid": "9fca347179447d1c3b6e5942ae77e4b7c166e4b0"
   },
   "outputs": [],
   "source": [
    "mte_seasonal_difference = mte - mte.shift(12)  \n",
    "TestStationaryPlot(mte_seasonal_difference.dropna(inplace=False))\n",
    "TestStationaryAdfuller(mte_seasonal_difference.dropna(inplace=False))"
   ]
  },
  {
   "cell_type": "code",
   "execution_count": 49,
   "metadata": {
    "_cell_guid": "111b0c16-8732-4e6b-b727-d544459fba6c",
    "_uuid": "932ca3c877269d813971bcfcf3e5848c50ae9d7e"
   },
   "outputs": [],
   "source": [
    "mte_seasonal_first_difference = mte_first_difference - mte_first_difference.shift(12)  \n",
    "TestStationaryPlot(mte_seasonal_first_difference.dropna(inplace=False))"
   ]
  },
  {
   "cell_type": "code",
   "execution_count": 50,
   "metadata": {
    "_cell_guid": "c57eba98-bd12-4de7-87ec-ea84725b7b6a",
    "_uuid": "f5fd2455490e6538a285435fd01b87de352ad533"
   },
   "outputs": [],
   "source": [
    "TestStationaryAdfuller(mte_seasonal_first_difference.dropna(inplace=False))"
   ]
  },
  {
   "cell_type": "markdown",
   "metadata": {
    "_cell_guid": "1f5cdff3-ec0a-4f6b-9961-d8ac3730391c",
    "_uuid": "8dcddf179bc0b9f4262f856e5acc5db688cbd7dc"
   },
   "source": [
    "## D) Eliminating trend and seasonality: Decomposing"
   ]
  },
  {
   "cell_type": "code",
   "execution_count": 51,
   "metadata": {
    "_cell_guid": "6e853db2-523c-42c1-a382-a7ab5a3c8eb1",
    "_uuid": "7a2a31a1800c74b92a64b1d58b1e4110ab6eb53f"
   },
   "outputs": [],
   "source": [
    "from statsmodels.tsa.seasonal import seasonal_decompose\n",
    "decomposition = seasonal_decompose(mte)\n",
    "\n",
    "trend = decomposition.trend\n",
    "seasonal = decomposition.seasonal\n",
    "residual = decomposition.resid\n",
    "\n",
    "plt.subplot(411)\n",
    "plt.plot(mte, label='Original')\n",
    "plt.legend(loc='best')\n",
    "plt.subplot(412)\n",
    "plt.plot(trend, label='Trend')\n",
    "plt.legend(loc='best')\n",
    "plt.subplot(413)\n",
    "plt.plot(seasonal,label='Seasonality')\n",
    "plt.legend(loc='best')\n",
    "plt.subplot(414)\n",
    "plt.plot(residual, label='Residuals')\n",
    "plt.legend(loc='best')\n",
    "plt.tight_layout()"
   ]
  },
  {
   "cell_type": "code",
   "execution_count": 52,
   "metadata": {
    "_cell_guid": "fcd833c9-115a-45d9-a204-c002bbe09438",
    "_uuid": "6a74eb6f1843daf582169125f34539e8a67f9f52"
   },
   "outputs": [],
   "source": [
    "mte_decompose = residual\n",
    "mte_decompose.dropna(inplace=True)\n",
    "TestStationaryPlot(mte_decompose)\n",
    "TestStationaryAdfuller(mte_decompose)"
   ]
  },
  {
   "cell_type": "markdown",
   "metadata": {
    "_cell_guid": "614fb86a-74a3-4048-aa5a-31bdbe728963",
    "_uuid": "55c2452dfd05890053cbb57de292d829c9f988c1"
   },
   "source": [
    "# 6) Find optimal parameters and build SARIMA model"
   ]
  },
  {
   "cell_type": "markdown",
   "metadata": {
    "_cell_guid": "eed808d7-4b70-4134-afa3-b975cfb43b4b",
    "_uuid": "46a70ea87b5a47f920422e3f8fde23abf052fb0e"
   },
   "source": [
    "# 6.1 Plot the ACF and PACF charts and find the optimal parameters"
   ]
  },
  {
   "cell_type": "code",
   "execution_count": 53,
   "metadata": {
    "_cell_guid": "e6ae22a2-0cff-4e66-9d7e-bd88bec8869b",
    "_uuid": "37d33de94ffee0043ac78c9e2e3f01cd30790288"
   },
   "outputs": [],
   "source": [
    "fig = plt.figure(figsize=(12,8))\n",
    "ax1 = fig.add_subplot(211)\n",
    "fig = sm.graphics.tsa.plot_acf(mte_seasonal_first_difference.iloc[13:], lags=40, ax=ax1)\n",
    "ax2 = fig.add_subplot(212)\n",
    "fig = sm.graphics.tsa.plot_pacf(mte_seasonal_first_difference.iloc[13:], lags=40, ax=ax2)"
   ]
  },
  {
   "cell_type": "markdown",
   "metadata": {
    "_cell_guid": "bd8bf07d-30c0-400a-9007-63ada6c021ff",
    "_uuid": "ae7a4c00dd1a637d401dfed0aeff1550364a55de"
   },
   "source": [
    "# 6.2 Grid search "
   ]
  },
  {
   "cell_type": "code",
   "execution_count": 54,
   "metadata": {
    "_cell_guid": "7913e441-ef9c-4658-958a-2ec9e18fc870",
    "_uuid": "270296f5d83824bd35110b00d6136540cf1c78a9"
   },
   "outputs": [],
   "source": [
    "p = d = q = range(0, 2) # Define the p, d and q parameters to take any value between 0 and 2\n",
    "pdq = list(itertools.product(p, d, q)) # Generate all different combinations of p, q and q triplets\n",
    "pdq_x_QDQs = [(x[0], x[1], x[2], 12) for x in list(itertools.product(p, d, q))] # Generate all different combinations of seasonal p, q and q triplets\n",
    "print('Examples of Seasonal ARIMA parameter combinations for Seasonal ARIMA...')\n",
    "print('SARIMAX: {} x {}'.format(pdq[1], pdq_x_QDQs[1]))\n",
    "print('SARIMAX: {} x {}'.format(pdq[2], pdq_x_QDQs[2]))"
   ]
  },
  {
   "cell_type": "code",
   "execution_count": 56,
   "metadata": {
    "_uuid": "a3a243d97361eba5f491eac8eda367fafb4e3575"
   },
   "outputs": [],
   "source": [
    "print(pdq)\n",
    "print(pdq_x_QDQs)"
   ]
  },
  {
   "cell_type": "code",
   "execution_count": 57,
   "metadata": {
    "_cell_guid": "41353237-2d0c-45e0-9bad-c260de3b0bc4",
    "_uuid": "70cf6e957ac9cd35390666cd78a5138d273393b8",
    "collapsed": true
   },
   "outputs": [],
   "source": [
    "for param in pdq:\n",
    "    for seasonal_param in pdq_x_QDQs:\n",
    "        try:\n",
    "            mod = sm.tsa.statespace.SARIMAX(mte,\n",
    "                                            order=param,\n",
    "                                            seasonal_order=seasonal_param,\n",
    "                                            enforce_stationarity=False,\n",
    "                                            enforce_invertibility=False)\n",
    "            results = mod.fit()\n",
    "            print('ARIMA{}x{} - AIC:{}'.format(param, param_seasonal, results.aic))\n",
    "        except:\n",
    "            continue\n"
   ]
  },
  {
   "cell_type": "code",
   "execution_count": 60,
   "metadata": {
    "_uuid": "6d47a8b87077802c6918be9885b7b0b9d3ab8841",
    "collapsed": true
   },
   "outputs": [],
   "source": [
    "a=[]\n",
    "b=[]\n",
    "c=[]\n",
    "wf=pd.DataFrame()"
   ]
  },
  {
   "cell_type": "code",
   "execution_count": 61,
   "metadata": {
    "_uuid": "04766cc9ea202f722dacfababf035efa57041653"
   },
   "outputs": [],
   "source": [
    "warnings.filterwarnings(\"ignore\") # specify to ignore warning messages\n",
    "\n",
    "for param in pdq:\n",
    "    for param_seasonal in pdq_x_QDQs:\n",
    "        try:\n",
    "            mod = sm.tsa.statespace.SARIMAX(mte,\n",
    "                                            order=param,\n",
    "                                            seasonal_order=param_seasonal,\n",
    "                                            enforce_stationarity=False,\n",
    "                                            enforce_invertibility=False)\n",
    "\n",
    "            results = mod.fit()\n",
    "\n",
    "            print('ARIMA{}x{}12 - AIC:{}'.format(param, param_seasonal, results.aic))\n",
    "            a.append(param)\n",
    "            b.append(param_seasonal)\n",
    "            c.append(results.aic)\n",
    "        except:\n",
    "            continue\n",
    "wf['pdq']=a\n",
    "wf['pdq_x_QDQs']=b\n",
    "wf['aic']=c\n",
    "print(wf[wf['aic']==wf['aic'].min()])"
   ]
  },
  {
   "cell_type": "code",
   "execution_count": 62,
   "metadata": {
    "_cell_guid": "0b6d99e2-c920-4eac-8bac-8486a1147505",
    "_uuid": "bd0258c1214970082a49c0d784ee9e9c359b78c1"
   },
   "outputs": [],
   "source": [
    "mod = sm.tsa.statespace.SARIMAX(mte, \n",
    "                                order=(1,1,1), \n",
    "                                seasonal_order=(0,1,1,12),   \n",
    "                                enforce_stationarity=False,\n",
    "                                enforce_invertibility=False)\n",
    "results = mod.fit()\n",
    "print(results.summary())"
   ]
  },
  {
   "cell_type": "code",
   "execution_count": 67,
   "metadata": {
    "_cell_guid": "4ad8e5ec-f21b-4ef2-b20c-01f3acb6368d",
    "_uuid": "7dc4de557d57f925873c9e5468fd0d169f8174c5"
   },
   "outputs": [],
   "source": [
    "results.resid.plot(figsize=(12,8))"
   ]
  },
  {
   "cell_type": "code",
   "execution_count": 64,
   "metadata": {
    "_cell_guid": "c8187159-249d-4064-b09a-6c02e71f08a5",
    "_uuid": "f8b5d7165e1f6bdbbbb3f94c1fd9bb97b4622e80"
   },
   "outputs": [],
   "source": [
    "print(results.resid.describe())"
   ]
  },
  {
   "cell_type": "code",
   "execution_count": 66,
   "metadata": {
    "_cell_guid": "e7af997b-d887-4fd6-b853-c9bc71133b84",
    "_uuid": "eeba2a6e6bb983047f650311b6df53db68601f79"
   },
   "outputs": [],
   "source": [
    "results.resid.plot(figsize=(12,8),kind='kde')"
   ]
  },
  {
   "cell_type": "code",
   "execution_count": 68,
   "metadata": {
    "_cell_guid": "2c9626bf-68c8-4111-b062-0ea5f16ff08f",
    "_uuid": "47ad5e28a4d3fee7183ce7a33257a20610f64d6f"
   },
   "outputs": [],
   "source": [
    "results.plot_diagnostics(figsize=(15, 12))\n",
    "plt.show()"
   ]
  },
  {
   "cell_type": "markdown",
   "metadata": {
    "_cell_guid": "a9cfc950-938b-453a-a0cd-cfaf3c7de9b7",
    "_uuid": "508b297b162e41e01b9a53a1cb5ab987a7173b66"
   },
   "source": [
    "# 7) Validating prediction"
   ]
  },
  {
   "cell_type": "code",
   "execution_count": 69,
   "metadata": {
    "_cell_guid": "9878aa60-8102-4df3-a2c8-5e1b74b03f7c",
    "_uuid": "7d1f1eb5c073a93667ec4f09886f7c2abec13f7a"
   },
   "outputs": [],
   "source": [
    "pred = results.get_prediction(start = 480, end = 523, dynamic=False)\n",
    "pred_ci = pred.conf_int()\n",
    "pred_ci.head()"
   ]
  },
  {
   "cell_type": "code",
   "execution_count": 70,
   "metadata": {
    "_cell_guid": "cd82aa05-e2bf-4a0a-96b0-47b9e3e55b00",
    "_uuid": "4ecb03ba00102201406ea2d12e55372b98f49841"
   },
   "outputs": [],
   "source": [
    "ax = mte['1973':].plot(label='observed')\n",
    "pred.predicted_mean.plot(ax=ax, label='One-step ahead forecast', alpha=.7)\n",
    "\n",
    "ax.fill_between(pred_ci.index,\n",
    "                pred_ci.iloc[:, 0],\n",
    "                pred_ci.iloc[:, 1], color='r', alpha=.5)\n",
    "\n",
    "ax.set_xlabel('Time (years)')\n",
    "ax.set_ylabel('NG CO2 Emissions')\n",
    "plt.legend()\n",
    "\n",
    "plt.show()"
   ]
  },
  {
   "cell_type": "code",
   "execution_count": 71,
   "metadata": {
    "_cell_guid": "657d8e9c-87ab-469b-8a54-0b732bad63f4",
    "_uuid": "3738c752822c9bfa2ed8029ac7601f847cb8239d"
   },
   "outputs": [],
   "source": [
    "mte_forecast = pred.predicted_mean\n",
    "mte_truth = mte['2013-01-31':]\n",
    "\n",
    "# Compute the mean square error\n",
    "mse = ((mte_forecast - mte_truth) ** 2).mean()\n",
    "print('The Mean Squared Error (MSE) of the forecast is {}'.format(round(mse, 2)))\n",
    "print('The Root Mean Square Error (RMSE) of the forcast: {:.4f}'\n",
    "      .format(np.sqrt(sum((mte_forecast-mte_truth)**2)/len(mte_forecast))))"
   ]
  },
  {
   "cell_type": "code",
   "execution_count": 72,
   "metadata": {
    "_cell_guid": "98937e89-c54b-4f85-b257-b978fbcc4ec3",
    "_uuid": "e27738671baa5233943e2066930c401007cc0e23",
    "collapsed": true
   },
   "outputs": [],
   "source": [
    "mte_pred_concat = pd.concat([mte_truth, mte_forecast])"
   ]
  },
  {
   "cell_type": "code",
   "execution_count": 73,
   "metadata": {
    "_cell_guid": "02e6c076-2567-415a-ac48-1d58a2ed2c26",
    "_uuid": "bf2cbd9082a5429866d127580b719c42f4090174",
    "collapsed": true
   },
   "outputs": [],
   "source": [
    "pred_dynamic = results.get_prediction(start=pd.to_datetime('2013-01-31'), dynamic=True, full_results=True)\n",
    "pred_dynamic_ci = pred_dynamic.conf_int()"
   ]
  },
  {
   "cell_type": "code",
   "execution_count": 74,
   "metadata": {
    "_cell_guid": "6b807bfc-b0e5-4ee3-9867-5318b6371b4d",
    "_uuid": "bdff8fd1e2e73e3a1576988610a07f65e5007510"
   },
   "outputs": [],
   "source": []
  },
  {
   "cell_type": "code",
   "execution_count": 75,
   "metadata": {
    "_cell_guid": "69ac6bc4-f5d8-41d6-a03f-b73385649adf",
    "_uuid": "38cd0bb44e9e7921b122380e7edb5942090f8399",
    "scrolled": true
   },
   "outputs": [],
   "source": []
  },
  {
   "cell_type": "code",
   "execution_count": 76,
   "metadata": {
    "_cell_guid": "d3f7b351-2624-4067-b519-afc4278cf695",
    "_uuid": "8a2ef7bf77fa3832d20d7fa85c7b5d4a0788861a"
   },
   "outputs": [],
   "source": []
  },
  {
   "cell_type": "markdown",
   "metadata": {
    "_cell_guid": "464741fb-d20b-422a-a1bf-1d2397db9e9a",
    "_uuid": "9172c6fd280ddc44ffb197ea1fae70c5ad0148e9"
   },
   "source": [
    "We can use the output of this code to plot the time series and forecasts of its future values."
   ]
  },
  {
   "cell_type": "code",
   "execution_count": 77,
   "metadata": {
    "_cell_guid": "9480557d-050e-4daa-80f8-4beeffcca74e",
    "_uuid": "c26e3cd36617c739f417a31c2e26341347daf646"
   },
   "outputs": [],
   "source": []
  }
 ],
 "metadata": {
  "kernelspec": {
   "display_name": "Python 3",
   "language": "python",
   "name": "python3"
  },
  "language_info": {
   "codemirror_mode": {
    "name": "ipython",
    "version": 3
   },
   "file_extension": ".py",
   "mimetype": "text/x-python",
   "name": "python",
   "nbconvert_exporter": "python",
   "pygments_lexer": "ipython3",
   "version": "3.7.4"
  }
 },
 "nbformat": 4,
 "nbformat_minor": 1
}
